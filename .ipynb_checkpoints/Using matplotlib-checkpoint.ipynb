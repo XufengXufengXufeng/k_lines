{
 "cells": [
  {
   "cell_type": "code",
   "execution_count": 1,
   "metadata": {},
   "outputs": [
    {
     "name": "stderr",
     "output_type": "stream",
     "text": [
      "D:\\Anaconda\\envs\\py35\\lib\\site-packages\\matplotlib\\cbook.py:136: MatplotlibDeprecationWarning: The finance module has been deprecated in mpl 2.0 and will be removed in mpl 2.2. Please use the module mpl_finance instead.\n",
      "  warnings.warn(message, mplDeprecation, stacklevel=1)\n"
     ]
    }
   ],
   "source": [
    "import numpy as np\n",
    "import pandas as pd\n",
    "from matplotlib import finance as mpf\n",
    "import matplotlib.pyplot as plt"
   ]
  },
  {
   "cell_type": "markdown",
   "metadata": {},
   "source": [
    "If you are using matplotlib 2.2 or later, please import 'mpl_finance' instead, as the 'finance' module has been deprecated."
   ]
  },
  {
   "cell_type": "code",
   "execution_count": 2,
   "metadata": {
    "collapsed": true
   },
   "outputs": [],
   "source": [
    "%matplotlib inline"
   ]
  },
  {
   "cell_type": "markdown",
   "metadata": {},
   "source": [
    "Generate wang's stock using sudo data."
   ]
  },
  {
   "cell_type": "code",
   "execution_count": 3,
   "metadata": {},
   "outputs": [],
   "source": [
    "wangs = np.random.standard_normal(180)\n",
    "days = pd.date_range('2017-1-1',periods = 180,freq='1d')\n",
    "wangs_stock_change = pd.DataFrame(wangs,index=days,columns = ['wangs'])"
   ]
  },
  {
   "cell_type": "code",
   "execution_count": 4,
   "metadata": {},
   "outputs": [
    {
     "data": {
      "image/png": "[encoded data removed]",
      "text/plain": [
       "<matplotlib.figure.Figure at 0x1f03956f7b8>"
      ]
     },
     "metadata": {},
     "output_type": "display_data"
    }
   ],
   "source": [
    "wangs_stock_price = wangs_stock_change.cumsum()\n",
    "wangs_stock_price.plot();"
   ]
  },
  {
   "cell_type": "markdown",
   "metadata": {},
   "source": [
    "There is a function in pandas that can shape series data to open high low close dataframe automatically."
   ]
  },
  {
   "cell_type": "code",
   "execution_count": 5,
   "metadata": {},
   "outputs": [],
   "source": [
    "wangs_stock_price_weekly = wangs_stock_price.resample('7d').ohlc()"
   ]
  },
  {
   "cell_type": "code",
   "execution_count": 6,
   "metadata": {
    "scrolled": true
   },
   "outputs": [
    {
     "data": {
      "text/html": [
       "<div>\n",
       "<style>\n",
       "    .dataframe thead tr:only-child th {\n",
       "        text-align: right;\n",
       "    }\n",
       "\n",
       "    .dataframe thead th {\n",
       "        text-align: left;\n",
       "    }\n",
       "\n",
       "    .dataframe tbody tr th {\n",
       "        vertical-align: top;\n",
       "    }\n",
       "</style>\n",
       "<table border=\"1\" class=\"dataframe\">\n",
       "  <thead>\n",
       "    <tr>\n",
       "      <th></th>\n",
       "      <th colspan=\"4\" halign=\"left\">wangs</th>\n",
       "    </tr>\n",
       "    <tr>\n",
       "      <th></th>\n",
       "      <th>open</th>\n",
       "      <th>high</th>\n",
       "      <th>low</th>\n",
       "      <th>close</th>\n",
       "    </tr>\n",
       "  </thead>\n",
       "  <tbody>\n",
       "    <tr>\n",
       "      <th>2017-01-01</th>\n",
       "      <td>-0.361607</td>\n",
       "      <td>2.497175</td>\n",
       "      <td>-0.361607</td>\n",
       "      <td>2.168938</td>\n",
       "    </tr>\n",
       "    <tr>\n",
       "      <th>2017-01-08</th>\n",
       "      <td>0.378146</td>\n",
       "      <td>0.758078</td>\n",
       "      <td>-2.271340</td>\n",
       "      <td>-1.530445</td>\n",
       "    </tr>\n",
       "    <tr>\n",
       "      <th>2017-01-15</th>\n",
       "      <td>-1.228378</td>\n",
       "      <td>-0.061646</td>\n",
       "      <td>-2.033090</td>\n",
       "      <td>-0.383705</td>\n",
       "    </tr>\n",
       "    <tr>\n",
       "      <th>2017-01-22</th>\n",
       "      <td>-0.570287</td>\n",
       "      <td>0.122028</td>\n",
       "      <td>-3.033124</td>\n",
       "      <td>-0.654449</td>\n",
       "    </tr>\n",
       "    <tr>\n",
       "      <th>2017-01-29</th>\n",
       "      <td>-0.921766</td>\n",
       "      <td>3.343785</td>\n",
       "      <td>-0.921766</td>\n",
       "      <td>3.343785</td>\n",
       "    </tr>\n",
       "  </tbody>\n",
       "</table>\n",
       "</div>"
      ],
      "text/plain": [
       "               wangs                              \n",
       "                open      high       low     close\n",
       "2017-01-01 -0.361607  2.497175 -0.361607  2.168938\n",
       "2017-01-08  0.378146  0.758078 -2.271340 -1.530445\n",
       "2017-01-15 -1.228378 -0.061646 -2.033090 -0.383705\n",
       "2017-01-22 -0.570287  0.122028 -3.033124 -0.654449\n",
       "2017-01-29 -0.921766  3.343785 -0.921766  3.343785"
      ]
     },
     "execution_count": 6,
     "metadata": {},
     "output_type": "execute_result"
    }
   ],
   "source": [
    "wangs_stock_price_weekly.head()"
   ]
  },
  {
   "cell_type": "markdown",
   "metadata": {},
   "source": [
    "Below is the plotting part."
   ]
  },
  {
   "cell_type": "code",
   "execution_count": 7,
   "metadata": {},
   "outputs": [
    {
     "data": {
      "image/png": "[encoded data removed]",
      "text/plain": [
       "<matplotlib.figure.Figure at 0x1f0399cc358>"
      ]
     },
     "metadata": {},
     "output_type": "display_data"
    }
   ],
   "source": [
    "colorup = 'green'\n",
    "colordown = 'red'\n",
    "fig, ax = plt.subplots(figsize=(14,7))\n",
    "quotes = []\n",
    "for index, (d,o,c,h,l) in enumerate(zip(wangs_stock_price_weekly.index,\n",
    "                                       wangs_stock_price_weekly.iloc[:,0],\n",
    "                                       wangs_stock_price_weekly.iloc[:,3],\n",
    "                                       wangs_stock_price_weekly.iloc[:,1],\n",
    "                                       wangs_stock_price_weekly.iloc[:,2])):\n",
    "    d = mpf.date2num(d)\n",
    "    val = (d,o,c,h,l)\n",
    "    quotes.append(val)\n",
    "mpf.candlestick_ochl(ax,quotes,width=0.7,colorup=colorup,colordown=colordown)\n",
    "ax.autoscale_view()\n",
    "ax.xaxis_date();"
   ]
  },
  {
   "cell_type": "markdown",
   "metadata": {},
   "source": [
    "One of the first things to do when doing quantitive finance, i think."
   ]
  }
 ],
 "metadata": {
  "kernelspec": {
   "display_name": "Python 3",
   "language": "python",
   "name": "python3"
  },
  "language_info": {
   "codemirror_mode": {
    "name": "ipython",
    "version": 3
   },
   "file_extension": ".py",
   "mimetype": "text/x-python",
   "name": "python",
   "nbconvert_exporter": "python",
   "pygments_lexer": "ipython3",
   "version": "3.5.3"
  }
 },
 "nbformat": 4,
 "nbformat_minor": 2
}
